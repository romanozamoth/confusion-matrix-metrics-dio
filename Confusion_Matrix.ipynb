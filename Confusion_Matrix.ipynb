{
  "nbformat": 4,
  "nbformat_minor": 0,
  "metadata": {
    "colab": {
      "provenance": [],
      "authorship_tag": "ABX9TyOJyURgVeU/qgL7yWErgmYv",
      "include_colab_link": true
    },
    "kernelspec": {
      "name": "python3",
      "display_name": "Python 3"
    },
    "language_info": {
      "name": "python"
    }
  },
  "cells": [
    {
      "cell_type": "markdown",
      "metadata": {
        "id": "view-in-github",
        "colab_type": "text"
      },
      "source": [
        "<a href=\"https://colab.research.google.com/github/romanozamoth/confusion-matrix-metrics-dio/blob/main/Confusion_Matrix.ipynb\" target=\"_parent\"><img src=\"https://colab.research.google.com/assets/colab-badge.svg\" alt=\"Open In Colab\"/></a>"
      ]
    },
    {
      "cell_type": "code",
      "source": [
        "from tensorflow.keras import datasets, layers, models\n",
        "import matplotlib.pyplot as plt\n",
        "import tensorflow as tf\n",
        "import numpy as np\n",
        "import seaborn as sns\n",
        "import pandas as pd"
      ],
      "metadata": {
        "id": "luFtPsQl5EVJ"
      },
      "execution_count": 2,
      "outputs": []
    },
    {
      "cell_type": "code",
      "source": [
        "tf.__version__"
      ],
      "metadata": {
        "colab": {
          "base_uri": "https://localhost:8080/",
          "height": 35
        },
        "id": "qUql1QHV5Ypv",
        "outputId": "1af8ac6b-ba3b-4023-ec24-af2302e2a483"
      },
      "execution_count": 3,
      "outputs": [
        {
          "output_type": "execute_result",
          "data": {
            "text/plain": [
              "'2.18.0'"
            ],
            "application/vnd.google.colaboratory.intrinsic+json": {
              "type": "string"
            }
          },
          "metadata": {},
          "execution_count": 3
        }
      ]
    },
    {
      "cell_type": "code",
      "source": [
        "%load_ext tensorboard"
      ],
      "metadata": {
        "id": "E25kPoD75dy8"
      },
      "execution_count": 4,
      "outputs": []
    },
    {
      "cell_type": "code",
      "source": [
        "logdir='log'"
      ],
      "metadata": {
        "id": "GA8S7UVO5iGH"
      },
      "execution_count": 5,
      "outputs": []
    },
    {
      "cell_type": "code",
      "source": [
        "(train_images, train_labels), (test_images, test_labels) = datasets.mnist.load_data()\n",
        "\n",
        "train_images = train_images.reshape((60000, 28, 28, 1))\n",
        "test_images = test_images.reshape((10000, 28, 28, 1))\n",
        "\n",
        "train_images, test_images = train_images / 255.0, test_images / 255.0\n",
        "\n",
        "classes = [0,1,2,3,4,5,6,7,8,9]"
      ],
      "metadata": {
        "colab": {
          "base_uri": "https://localhost:8080/"
        },
        "id": "uSqzw61c5j_8",
        "outputId": "1b6b655a-e4cb-42f7-c2ae-cb296a6d1f86"
      },
      "execution_count": 6,
      "outputs": [
        {
          "output_type": "stream",
          "name": "stdout",
          "text": [
            "Downloading data from https://storage.googleapis.com/tensorflow/tf-keras-datasets/mnist.npz\n",
            "\u001b[1m11490434/11490434\u001b[0m \u001b[32m━━━━━━━━━━━━━━━━━━━━\u001b[0m\u001b[37m\u001b[0m \u001b[1m0s\u001b[0m 0us/step\n"
          ]
        }
      ]
    },
    {
      "cell_type": "code",
      "source": [
        "model = models.Sequential()\n",
        "model.add(layers.Conv2D(32, (3, 3), activation='relu', input_shape=(28, 28,1)))\n",
        "model.add(layers.MaxPooling2D((2, 2)))\n",
        "model.add(layers.Conv2D(64, (3, 3), activation='relu'))\n",
        "model.add(layers.MaxPooling2D((2, 2)))\n",
        "model.add(layers.Conv2D(64, (3, 3), activation='relu'))\n",
        "\n",
        "model.add(layers.Flatten())\n",
        "model.add(layers.Dense(64, activation='relu'))\n",
        "model.add(layers.Dense(10, activation='softmax'))"
      ],
      "metadata": {
        "colab": {
          "base_uri": "https://localhost:8080/"
        },
        "id": "OVcruHi_6KEi",
        "outputId": "a1560347-de0f-44e0-871e-ec5028b765d5"
      },
      "execution_count": 7,
      "outputs": [
        {
          "output_type": "stream",
          "name": "stderr",
          "text": [
            "/usr/local/lib/python3.11/dist-packages/keras/src/layers/convolutional/base_conv.py:107: UserWarning: Do not pass an `input_shape`/`input_dim` argument to a layer. When using Sequential models, prefer using an `Input(shape)` object as the first layer in the model instead.\n",
            "  super().__init__(activity_regularizer=activity_regularizer, **kwargs)\n"
          ]
        }
      ]
    },
    {
      "cell_type": "code",
      "source": [
        "tensorboard_callback = tf.keras.callbacks.TensorBoard(logdir, histogram_freq=1)"
      ],
      "metadata": {
        "id": "irxzzq8I68ZN"
      },
      "execution_count": 8,
      "outputs": []
    },
    {
      "cell_type": "code",
      "source": [
        "model.compile(optimizer='adam',\n",
        "              loss='sparse_categorical_crossentropy',\n",
        "              metrics=['accuracy'])\n",
        "\n",
        "model.fit(x=train_images,\n",
        "          y=train_labels,\n",
        "          epochs=5,\n",
        "          validation_data=(test_images, test_labels))"
      ],
      "metadata": {
        "colab": {
          "base_uri": "https://localhost:8080/"
        },
        "id": "xZgWkc9r7WD2",
        "outputId": "1e453382-b5df-4292-cf83-915c29ffc8ff"
      },
      "execution_count": 10,
      "outputs": [
        {
          "output_type": "stream",
          "name": "stdout",
          "text": [
            "Epoch 1/5\n",
            "\u001b[1m1875/1875\u001b[0m \u001b[32m━━━━━━━━━━━━━━━━━━━━\u001b[0m\u001b[37m\u001b[0m \u001b[1m71s\u001b[0m 37ms/step - accuracy: 0.8936 - loss: 0.3520 - val_accuracy: 0.9861 - val_loss: 0.0452\n",
            "Epoch 2/5\n",
            "\u001b[1m1875/1875\u001b[0m \u001b[32m━━━━━━━━━━━━━━━━━━━━\u001b[0m\u001b[37m\u001b[0m \u001b[1m112s\u001b[0m 53ms/step - accuracy: 0.9830 - loss: 0.0526 - val_accuracy: 0.9901 - val_loss: 0.0335\n",
            "Epoch 3/5\n",
            "\u001b[1m1875/1875\u001b[0m \u001b[32m━━━━━━━━━━━━━━━━━━━━\u001b[0m\u001b[37m\u001b[0m \u001b[1m119s\u001b[0m 41ms/step - accuracy: 0.9895 - loss: 0.0338 - val_accuracy: 0.9887 - val_loss: 0.0359\n",
            "Epoch 4/5\n",
            "\u001b[1m1875/1875\u001b[0m \u001b[32m━━━━━━━━━━━━━━━━━━━━\u001b[0m\u001b[37m\u001b[0m \u001b[1m96s\u001b[0m 51ms/step - accuracy: 0.9921 - loss: 0.0236 - val_accuracy: 0.9896 - val_loss: 0.0353\n",
            "Epoch 5/5\n",
            "\u001b[1m1875/1875\u001b[0m \u001b[32m━━━━━━━━━━━━━━━━━━━━\u001b[0m\u001b[37m\u001b[0m \u001b[1m108s\u001b[0m 33ms/step - accuracy: 0.9945 - loss: 0.0185 - val_accuracy: 0.9887 - val_loss: 0.0336\n"
          ]
        },
        {
          "output_type": "execute_result",
          "data": {
            "text/plain": [
              "<keras.src.callbacks.history.History at 0x7801ef42d890>"
            ]
          },
          "metadata": {},
          "execution_count": 10
        }
      ]
    },
    {
      "cell_type": "code",
      "source": [
        "y_true=test_labels\n",
        "y_pred_proba = model.predict(test_images)\n",
        "y_pred = np.argmax(y_pred_proba, axis=1)"
      ],
      "metadata": {
        "colab": {
          "base_uri": "https://localhost:8080/"
        },
        "id": "oe8yZCIM8P3g",
        "outputId": "86580225-cc8b-40f3-f63a-ab6f942f36c6"
      },
      "execution_count": 12,
      "outputs": [
        {
          "output_type": "stream",
          "name": "stdout",
          "text": [
            "\u001b[1m313/313\u001b[0m \u001b[32m━━━━━━━━━━━━━━━━━━━━\u001b[0m\u001b[37m\u001b[0m \u001b[1m3s\u001b[0m 9ms/step\n"
          ]
        }
      ]
    },
    {
      "cell_type": "code",
      "source": [
        "classes=[0,1,2,3,4,5,6,7,8,9]"
      ],
      "metadata": {
        "id": "sN3F3hn68YvJ"
      },
      "execution_count": 13,
      "outputs": []
    },
    {
      "cell_type": "code",
      "source": [
        "con_mat = tf.math.confusion_matrix(labels=y_true, predictions=y_pred).numpy()\n",
        "con_mat_norm = np.around(con_mat.astype('float') / con_mat.sum(axis=1)[:, np.newaxis], decimals=2)\n",
        "\n",
        "con_mat_df = pd.DataFrame(con_mat_norm,\n",
        "                          index = classes,\n",
        "                          columns = classes)\n",
        "\n",
        "figure = plt.figure(figsize=(8, 8))\n",
        "sns.heatmap(con_mat_df, annot=True, cmap=plt.cm.Blues)\n",
        "plt.tight_layout()\n",
        "plt.ylabel('True label')\n",
        "plt.xlabel('Predicted label')\n",
        "plt.show()"
      ],
      "metadata": {
        "colab": {
          "base_uri": "https://localhost:8080/",
          "height": 826
        },
        "id": "OFzZAvV18ca-",
        "outputId": "6f2ae968-a96a-47b8-933f-aa5dde2f6216"
      },
      "execution_count": 16,
      "outputs": [
        {
          "output_type": "display_data",
          "data": {
            "text/plain": [
              "<Figure size 800x800 with 2 Axes>"
            ],
            "image/png": "[encoded data removed]"
          },
          "metadata": {}
        }
      ]
    },
    {
      "cell_type": "code",
      "source": [
        "def calcular_metricas_por_classe(confusion_mat):\n",
        "    num_classes = confusion_mat.shape[0]\n",
        "    metricas = []\n",
        "\n",
        "    for i in range(num_classes):\n",
        "        VP = confusion_mat[i, i]\n",
        "        FN = np.sum(confusion_mat[i, :]) - VP\n",
        "        FP = np.sum(confusion_mat[:, i]) - VP\n",
        "        VN = np.sum(confusion_mat) - (VP + FP + FN)\n",
        "\n",
        "        sensibilidade = VP / (VP + FN) if (VP + FN) != 0 else 0\n",
        "        especificidade = VN / (VN + FP) if (VN + FP) != 0 else 0\n",
        "        acuracia = (VP + VN) / np.sum(confusion_mat)\n",
        "        precisao = VP / (VP + FP) if (VP + FP) != 0 else 0\n",
        "        f_score = 2 * (precisao * sensibilidade) / (precisao + sensibilidade) if (precisao + sensibilidade) != 0 else 0\n",
        "\n",
        "        metricas.append({\n",
        "            'Classe': i,\n",
        "            'VP': VP, 'FN': FN, 'FP': FP, 'VN': VN,\n",
        "            'Sensibilidade': round(sensibilidade, 2),\n",
        "            'Especificidade': round(especificidade, 2),\n",
        "            'Acurácia': round(acuracia, 2),\n",
        "            'Precisão': round(precisao, 2),\n",
        "            'F-score': round(f_score, 2)\n",
        "        })\n",
        "\n",
        "    return pd.DataFrame(metricas)\n",
        "\n",
        "df_metricas = calcular_metricas_por_classe(con_mat)\n",
        "print(df_metricas)"
      ],
      "metadata": {
        "colab": {
          "base_uri": "https://localhost:8080/"
        },
        "id": "-1zyJ5_eAs66",
        "outputId": "cd3350eb-afa5-4c59-88de-7e729b669908"
      },
      "execution_count": 18,
      "outputs": [
        {
          "output_type": "stream",
          "name": "stdout",
          "text": [
            "   Classe    VP  FN  FP  ...  Especificidade  Acurácia  Precisão  F-score\n",
            "0       0   977   3   5  ...             1.0       1.0      0.99     1.00\n",
            "1       1  1125  10   8  ...             1.0       1.0      0.99     0.99\n",
            "2       2  1005  27   3  ...             1.0       1.0      1.00     0.99\n",
            "3       3  1003   7  17  ...             1.0       1.0      0.98     0.99\n",
            "4       4   974   8   6  ...             1.0       1.0      0.99     0.99\n",
            "5       5   878  14  16  ...             1.0       1.0      0.98     0.98\n",
            "6       6   946  12   5  ...             1.0       1.0      0.99     0.99\n",
            "7       7  1026   2  42  ...             1.0       1.0      0.96     0.98\n",
            "8       8   961  13   2  ...             1.0       1.0      1.00     0.99\n",
            "9       9   992  17   9  ...             1.0       1.0      0.99     0.99\n",
            "\n",
            "[10 rows x 10 columns]\n"
          ]
        }
      ]
    }
  ]
}